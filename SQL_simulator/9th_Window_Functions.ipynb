{
 "cells": [
  {
   "cell_type": "markdown",
   "id": "affc676c",
   "metadata": {},
   "source": [
    "### Задача 1.\n",
    "\n",
    "Примените оконные функции к таблице `products` и с помощью ранжирующих функций упорядочьте все товары по цене — от самых дорогих к самым дешёвым. Добавьте в таблицу следующие колонки:\n",
    "\n",
    "- Колонку `product_number` с порядковым номером товара (функция `ROW_NUMBER`).\n",
    "- Колонку `product_rank` с рангом товара с пропусками рангов (функция `RANK`).\n",
    "- Колонку `product_dense_rank` с рангом товара без пропусков рангов (функция `DENSE_RANK`).\n",
    "\n",
    "Не забывайте указывать в окне сортировку записей — без неё ранжирующие функции могут давать некорректный результат, если таблица заранее не отсортирована. Деление на партиции внутри окна сейчас не требуется. Сортировать записи в результирующей таблице тоже не нужно.\n",
    "\n",
    "Поля в результирующей таблице: `product_id`, `name`, `price`, `product_number`, `product_rank`, `product_dense_rank`\n",
    "\n",
    "```SQL\n",
    "SELECT \n",
    "    product_id,\n",
    "    name,\n",
    "    price,\n",
    "    ROW_NUMBER() OVER(ORDER BY price DESC) AS product_number,\n",
    "    RANK() OVER(ORDER BY price DESC) AS product_rank,\n",
    "    DENSE_RANK() OVER(ORDER BY price DESC) AS product_dense_rank\n",
    "FROM products\n",
    "```\n",
    "\n"
   ]
  }
 ],
 "metadata": {
  "kernelspec": {
   "display_name": "Python 3 (ipykernel)",
   "language": "python",
   "name": "python3"
  },
  "language_info": {
   "codemirror_mode": {
    "name": "ipython",
    "version": 3
   },
   "file_extension": ".py",
   "mimetype": "text/x-python",
   "name": "python",
   "nbconvert_exporter": "python",
   "pygments_lexer": "ipython3",
   "version": "3.11.2"
  }
 },
 "nbformat": 4,
 "nbformat_minor": 5
}
