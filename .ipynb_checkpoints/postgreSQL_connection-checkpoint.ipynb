{
 "cells": [
  {
   "cell_type": "code",
   "execution_count": 1,
   "id": "58492384",
   "metadata": {},
   "outputs": [],
   "source": [
    "import psycopg2\n",
    "import pandas as pd\n",
    "import numpy as np\n",
    "from psycopg2 import sql\n",
    "from datetime import datetime, timedelta"
   ]
  },
  {
   "cell_type": "markdown",
   "id": "d0ae5f68",
   "metadata": {},
   "source": [
    "# 1. Подключение к PostgreSQL\n",
    "\n",
    "Создаем подключение к таблице через psycopg2"
   ]
  },
  {
   "cell_type": "code",
   "execution_count": 2,
   "id": "1a0bf472",
   "metadata": {},
   "outputs": [],
   "source": [
    "dbname = ''\n",
    "user = ''\n",
    "password = ''\n",
    "host = 'localhost'\n",
    "\n",
    "\n",
    "try:\n",
    "    conn = psycopg2.connect(dbname=dbname, user=user, password=password, host=host)\n",
    "except:\n",
    "    print('Can`t establish connection to database')"
   ]
  },
  {
   "cell_type": "markdown",
   "id": "0aba1872",
   "metadata": {},
   "source": [
    "# 2. Запросы из бд\n",
    "\n",
    "Пробуем сделать запрос из бд после подключения. Для этого используем конструкцию `with`, чтобы закрывать объект cursor сразу после запроса:\n",
    "- `cursor.fetchone()` — вернуть одну строку\n",
    "- `cursor.fetchall()` — вернуть все строки\n",
    "- `cursor.fetchmany(size=10)` — вернуть указанное количество строк"
   ]
  },
  {
   "cell_type": "code",
   "execution_count": 3,
   "id": "6141840b",
   "metadata": {},
   "outputs": [],
   "source": [
    "cur = conn.cursor()\n",
    "\n",
    "with cur as curs:\n",
    "    curs.execute('SELECT * FROM users')\n",
    "    # Получение результатов запроса в виде списка кортежей\n",
    "    all_users = curs.fetchall()"
   ]
  },
  {
   "cell_type": "markdown",
   "id": "66e6e62b",
   "metadata": {},
   "source": [
    "# 3. Получаем данные в виде pandas Dataframe"
   ]
  },
  {
   "cell_type": "code",
   "execution_count": 4,
   "id": "62accf58",
   "metadata": {},
   "outputs": [],
   "source": [
    "df = pd.DataFrame(all_users, columns=[desc[0] for desc in cur.description])"
   ]
  },
  {
   "cell_type": "markdown",
   "id": "eb2520fc",
   "metadata": {},
   "source": [
    "# 4. Добавление новых таблиц в базу данных\n",
    "\n",
    "Генерируем новые данные для дальнешей загрузки их в нашу базу данных:"
   ]
  },
  {
   "cell_type": "code",
   "execution_count": 5,
   "id": "c1b851f8",
   "metadata": {},
   "outputs": [],
   "source": [
    "install_list = []\n",
    "install_time = datetime.strptime(\"2024-01-01 00:00:00\", \"%Y-%m-%d %H:%M:%S\")\n",
    "\n",
    "for i in range(1, 501):\n",
    "    app_name = f'name_{np.random.randint(1, 6)}'\n",
    "    install_time = install_time + timedelta(hours=np.random.randint(1, 25),\n",
    "                                            seconds=np.random.randint(1, 3601)\n",
    "                                           )\n",
    "    \n",
    "    install_list.append({'id': i, 'app_name': app_name, 'install_time': install_time})\n",
    "\n",
    "# Создаем фрейм данных для активности\n",
    "installs = pd.DataFrame(install_list).sort_values('install_time')"
   ]
  },
  {
   "cell_type": "markdown",
   "id": "2f5e038a",
   "metadata": {},
   "source": [
    "Создаем запрос для создания таблицы в нашей бд, затем с помощью `with` осуществляем запрос"
   ]
  },
  {
   "cell_type": "code",
   "execution_count": 6,
   "id": "deebc2cc",
   "metadata": {},
   "outputs": [],
   "source": [
    "create_table_query = '''\n",
    "CREATE TABLE installs (\n",
    "    id SERIAL PRIMARY KEY,\n",
    "    app_name VARCHAR(255),\n",
    "    install_time TIMESTAMP\n",
    ")\n",
    "'''\n",
    "\n",
    "cur = conn.cursor()\n",
    "\n",
    "with cur as curs:\n",
    "    curs.execute(create_table_query)\n",
    "    # Получение результатов запроса в виде списка кортежей\n",
    "    conn.commit()"
   ]
  },
  {
   "cell_type": "markdown",
   "id": "28d1452b",
   "metadata": {},
   "source": [
    "Затем создаем запрос, с помощью которого мы сможем добавлять наши данные в таблицу:"
   ]
  },
  {
   "cell_type": "code",
   "execution_count": 7,
   "id": "20ba794e",
   "metadata": {},
   "outputs": [],
   "source": [
    "table_name = 'installs'\n",
    "query = (\n",
    "    sql.SQL('''\n",
    "        INSERT INTO {} (id, app_name, install_time)\n",
    "        VALUES (%s, %s, %s)\n",
    "        ''').format(sql.Identifier(table_name))\n",
    ")\n",
    "\n",
    "values = [tuple(x) for x in installs.values]\n",
    "\n",
    "cur = conn.cursor()\n",
    "\n",
    "with cur as curs:\n",
    "    curs.executemany(query, values)\n",
    "    # Получение результатов запроса в виде списка кортежей\n",
    "    conn.commit()"
   ]
  },
  {
   "cell_type": "markdown",
   "id": "06bb8595",
   "metadata": {},
   "source": [
    "Генерируем таблицу `levels` с условиями, что дата активности нашего пользователя должна быть больше, чем дата регистрации в приложении(`installs`), а также каждая последующая дата обновления уровня выше, чем предыдущая дата получения уровня, которая связана вторичным ключом с нашей таблицей `installs`"
   ]
  },
  {
   "cell_type": "code",
   "execution_count": 8,
   "id": "1cea82f8",
   "metadata": {},
   "outputs": [],
   "source": [
    "activities = []\n",
    "\n",
    "for index, row in installs.iterrows():\n",
    "    num_levels = np.random.randint(1, 41)\n",
    "    event_time = row['install_time']\n",
    "    \n",
    "    for level in range(1, num_levels + 1):\n",
    "        event_time = event_time + timedelta(hours=np.random.randint(1, 25),\n",
    "                                            seconds=np.random.randint(1, 3601)\n",
    "                                           )\n",
    "        activities.append({'user_id': row['id'], 'level': level, 'event_time': event_time})\n",
    "\n",
    "# Создаем фрейм данных для активности\n",
    "levels = pd.DataFrame(activities).sort_values('event_time')"
   ]
  },
  {
   "cell_type": "code",
   "execution_count": 9,
   "id": "aab4f76c",
   "metadata": {},
   "outputs": [],
   "source": [
    "create_table_query = '''\n",
    "CREATE TABLE levels (\n",
    "    user_id INT REFERENCES installs(id),\n",
    "    level INT,\n",
    "    event_time TIMESTAMP\n",
    ")\n",
    "'''\n",
    "\n",
    "cur = conn.cursor()\n",
    "\n",
    "with cur as curs:\n",
    "    curs.execute(create_table_query)\n",
    "    # Получение результатов запроса в виде списка кортежей\n",
    "    conn.commit()"
   ]
  },
  {
   "cell_type": "code",
   "execution_count": 10,
   "id": "9d4b4185",
   "metadata": {},
   "outputs": [],
   "source": [
    "table_name = 'levels'\n",
    "query = (\n",
    "    sql.SQL('''\n",
    "    INSERT INTO {} (user_id, level, event_time)\n",
    "    VALUES (%s, %s, %s)\n",
    "    ''').format(sql.Identifier(table_name))\n",
    ")\n",
    "\n",
    "values = [tuple(x) for x in levels.values]\n",
    "\n",
    "cur = conn.cursor()\n",
    "\n",
    "with cur as curs:\n",
    "    curs.executemany(query, values)\n",
    "    # Получение результатов запроса в виде списка кортежей\n",
    "    conn.commit()"
   ]
  }
 ],
 "metadata": {
  "kernelspec": {
   "display_name": "Python 3 (ipykernel)",
   "language": "python",
   "name": "python3"
  },
  "language_info": {
   "codemirror_mode": {
    "name": "ipython",
    "version": 3
   },
   "file_extension": ".py",
   "mimetype": "text/x-python",
   "name": "python",
   "nbconvert_exporter": "python",
   "pygments_lexer": "ipython3",
   "version": "3.11.2"
  }
 },
 "nbformat": 4,
 "nbformat_minor": 5
}
