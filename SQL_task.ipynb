{
 "cells": [
  {
   "cell_type": "code",
   "execution_count": 1,
   "metadata": {},
   "outputs": [],
   "source": [
    "import pandahouse as ph"
   ]
  },
  {
   "cell_type": "code",
   "execution_count": 2,
   "metadata": {},
   "outputs": [],
   "source": [
    "connection_def_DB = {'host': 'https://clickhouse.lab.karpov.courses',\n",
    "                         'database': 'def',\n",
    "                         'user': 'admin',\n",
    "                         'password': 'admin'}"
   ]
  },
  {
   "cell_type": "code",
   "execution_count": 3,
   "metadata": {},
   "outputs": [],
   "source": [
    "def return_data(query):\n",
    "    return ph.read_clickhouse(query,\n",
    "                              connection=connection_def_DB)"
   ]
  },
  {
   "cell_type": "markdown",
   "metadata": {},
   "source": [
    "### 1. Очень усердные ученики\n",
    "\n",
    "Образовательные курсы состоят из различных уроков, каждый из которых состоит из нескольких маленьких заданий. Каждое такое маленькое задание называется \"горошиной\".\n",
    "\n",
    "Назовём очень усердным учеником того пользователя, который хотя бы раз за текущий месяц <span style=\"color:Tomato\">**правильно**</span> решил 20 горошин.\n",
    "\n",
    "Необходимо написать <span style=\"color:Tomato\">**оптимальный запрос**</span>, который даст информацию о количестве очень усердных студентов.\n",
    "\n",
    "NB! Под усердным студентом мы понимаем студента, который правильно решил 20 задач за текущий месяц."
   ]
  },
  {
   "cell_type": "markdown",
   "metadata": {},
   "source": [
    "#### <span style=\"color:DarkGreen\">Поскольку в нашей таблице только один месяц, то в запросе можно не прописывать конкретное указание на \"текущий месяц\".</span>"
   ]
  },
  {
   "cell_type": "code",
   "execution_count": 4,
   "metadata": {},
   "outputs": [],
   "source": [
    "query = \"\"\"\n",
    "            SELECT\n",
    "                countIf(qty_answ >= 20) as qnty_hard_students\n",
    "            FROM\n",
    "                (\n",
    "                SELECT\n",
    "                    st_id, COUNT(correct) as qty_answ\n",
    "                FROM\n",
    "                    peas\n",
    "                WHERE\n",
    "                    correct == 1 AND MONTH(timest) == 10\n",
    "                GROUP BY\n",
    "                    st_id\n",
    "                ) as act_stud\n",
    "        \"\"\""
   ]
  },
  {
   "cell_type": "code",
   "execution_count": 5,
   "metadata": {},
   "outputs": [
    {
     "data": {
      "text/html": [
       "<div>\n",
       "<style scoped>\n",
       "    .dataframe tbody tr th:only-of-type {\n",
       "        vertical-align: middle;\n",
       "    }\n",
       "\n",
       "    .dataframe tbody tr th {\n",
       "        vertical-align: top;\n",
       "    }\n",
       "\n",
       "    .dataframe thead th {\n",
       "        text-align: right;\n",
       "    }\n",
       "</style>\n",
       "<table border=\"1\" class=\"dataframe\">\n",
       "  <thead>\n",
       "    <tr style=\"text-align: right;\">\n",
       "      <th></th>\n",
       "      <th>qnty_hard_students</th>\n",
       "    </tr>\n",
       "  </thead>\n",
       "  <tbody>\n",
       "    <tr>\n",
       "      <th>0</th>\n",
       "      <td>136</td>\n",
       "    </tr>\n",
       "  </tbody>\n",
       "</table>\n",
       "</div>"
      ],
      "text/plain": [
       "   qnty_hard_students\n",
       "0                 136"
      ]
     },
     "execution_count": 5,
     "metadata": {},
     "output_type": "execute_result"
    }
   ],
   "source": [
    "return_data(query)"
   ]
  },
  {
   "cell_type": "markdown",
   "metadata": {},
   "source": [
    "### 2. Оптимизация воронки\n",
    "\n",
    "Образовательная платформа предлагает пройти студентам курсы по модели trial: студент может решить бесплатно лишь 30 горошин в день. Для неограниченного количества заданий в определенной дисциплине студенту необходимо приобрести полный доступ. Команда провела эксперимент, где был протестирован новый экран оплаты.\n",
    "\n",
    "Даны таблицы: default.peas, default.studs и default.final_project_check\n",
    "\n",
    "Необходимо в одном запросе выгрузить следующую информацию о группах пользователей:\n",
    "\n",
    "- ARPU \n",
    "- ARPAU \n",
    "- CR в покупку \n",
    "- CR активного пользователя в покупку \n",
    "- CR пользователя из активности по математике (subject = ’math’) в покупку курса по математике\n",
    "- ARPU считается относительно всех пользователей, попавших в группы.\n",
    "\n",
    "<span style=\"color:Tomato\">**Активным**</span> считается пользователь, за все время решивший <span style=\"color:Tomato\">**больше**</span> 10 задач правильно в любых дисциплинах.\n",
    "\n",
    "<span style=\"color:Tomato\">**Активным**</span> по математике считается пользователь, за все время решивший <span style=\"color:Tomato\">**2 или больше**</span> задач правильно по математике."
   ]
  },
  {
   "cell_type": "code",
   "execution_count": 6,
   "metadata": {},
   "outputs": [],
   "source": [
    "query_2 = \"\"\"\n",
    "            SELECT\n",
    "                test_grp as Group,\n",
    "                ROUND(SUM(revenue) / COUNT(peas.st_id), 0) as ARPU,\n",
    "                ROUND(sumIf(revenue, correct_answr > 10) /\n",
    "                countIf(peas.st_id, correct_answr > 10), 0) as ARPAU,\n",
    "                CONCAT(CAST(ROUND((countIf(peas.st_id, revenue > 0) /\n",
    "                COUNT(peas.st_id) * 100), 2) AS String), '%') AS CR,\n",
    "                CONCAT(CAST(ROUND((countIf(peas.st_id, (revenue > 0 AND correct_answr > 10)) /\n",
    "                countIf(peas.st_id, correct_answr > 10)) * 100, 2) AS String), '%') as CR_active_users,\n",
    "                CONCAT(CAST(ROUND((countIf(peas.st_id, (revenue_math > 0 AND corr_math  >= 2)) /\n",
    "                countIf(peas.st_id, corr_math >= 2)) * 100, 2) AS String), '%') as CR_math\n",
    "            FROM\n",
    "                (\n",
    "                SELECT\n",
    "                    peas.st_id,\n",
    "                    test_grp,\n",
    "                    correct_answr,\n",
    "                    corr_math,\n",
    "                    revenue,\n",
    "                    revenue_math\n",
    "                FROM default.studs as studs\n",
    "                    LEFT JOIN\n",
    "                    (\n",
    "                        SELECT\n",
    "                            st_id,\n",
    "                            SUM(correct) as correct_answr,\n",
    "                            sumIf(correct, subject = 'Math') as corr_math\n",
    "                        FROM default.peas\n",
    "                        GROUP BY st_id\n",
    "                    ) as peas\n",
    "                    ON studs.st_id = peas.st_id\n",
    "                    LEFT JOIN\n",
    "                    (\n",
    "                        SELECT\n",
    "                            st_id,\n",
    "                            SUM(money) as revenue,\n",
    "                            sumIf(money, subject = 'Math') as revenue_math\n",
    "                        FROM default.final_project_check\n",
    "                        GROUP BY st_id\n",
    "                    ) as final\n",
    "                    ON studs.st_id = final.st_id\n",
    "                )\n",
    "            GROUP BY\n",
    "                test_grp\n",
    "        \"\"\""
   ]
  },
  {
   "cell_type": "code",
   "execution_count": 7,
   "metadata": {},
   "outputs": [
    {
     "data": {
      "text/html": [
       "<div>\n",
       "<style scoped>\n",
       "    .dataframe tbody tr th:only-of-type {\n",
       "        vertical-align: middle;\n",
       "    }\n",
       "\n",
       "    .dataframe tbody tr th {\n",
       "        vertical-align: top;\n",
       "    }\n",
       "\n",
       "    .dataframe thead th {\n",
       "        text-align: right;\n",
       "    }\n",
       "</style>\n",
       "<table border=\"1\" class=\"dataframe\">\n",
       "  <thead>\n",
       "    <tr style=\"text-align: right;\">\n",
       "      <th></th>\n",
       "      <th>Group</th>\n",
       "      <th>ARPU</th>\n",
       "      <th>ARPAU</th>\n",
       "      <th>CR</th>\n",
       "      <th>CR_active_users</th>\n",
       "      <th>CR_math</th>\n",
       "    </tr>\n",
       "  </thead>\n",
       "  <tbody>\n",
       "    <tr>\n",
       "      <th>0</th>\n",
       "      <td>control</td>\n",
       "      <td>4541.0</td>\n",
       "      <td>10394.0</td>\n",
       "      <td>4.92%</td>\n",
       "      <td>11.02%</td>\n",
       "      <td>6.12%</td>\n",
       "    </tr>\n",
       "    <tr>\n",
       "      <th>1</th>\n",
       "      <td>pilot</td>\n",
       "      <td>11508.0</td>\n",
       "      <td>29740.0</td>\n",
       "      <td>10.85%</td>\n",
       "      <td>26.04%</td>\n",
       "      <td>9.52%</td>\n",
       "    </tr>\n",
       "  </tbody>\n",
       "</table>\n",
       "</div>"
      ],
      "text/plain": [
       "     Group     ARPU    ARPAU      CR CR_active_users CR_math\n",
       "0  control   4541.0  10394.0   4.92%          11.02%   6.12%\n",
       "1    pilot  11508.0  29740.0  10.85%          26.04%   9.52%"
      ]
     },
     "execution_count": 7,
     "metadata": {},
     "output_type": "execute_result"
    }
   ],
   "source": [
    "return_data(query_2)"
   ]
  }
 ],
 "metadata": {
  "kernelspec": {
   "display_name": "Python 3 (ipykernel)",
   "language": "python",
   "name": "python3"
  },
  "language_info": {
   "codemirror_mode": {
    "name": "ipython",
    "version": 3
   },
   "file_extension": ".py",
   "mimetype": "text/x-python",
   "name": "python",
   "nbconvert_exporter": "python",
   "pygments_lexer": "ipython3",
   "version": "3.11.2"
  }
 },
 "nbformat": 4,
 "nbformat_minor": 4
}
